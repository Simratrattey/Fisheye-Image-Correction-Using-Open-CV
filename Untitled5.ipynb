{
  "nbformat": 4,
  "nbformat_minor": 0,
  "metadata": {
    "colab": {
      "provenance": []
    },
    "kernelspec": {
      "name": "python3",
      "display_name": "Python 3"
    },
    "language_info": {
      "name": "python"
    }
  },
  "cells": [
    {
      "cell_type": "code",
      "execution_count": null,
      "metadata": {
        "id": "-oeiOQBlESsD"
      },
      "outputs": [],
      "source": [
        "import numpy as np\n",
        "import cv2\n",
        "import glob\n",
        "import matplotlib.pyplot as plt\n",
        "import pickle\n",
        "# %matplotlib qt\n",
        "\n",
        "# prepare object points, like (0,0,0), (1,0,0), (2,0,0) ....,(6,5,0)\n",
        "objp = np.zeros((6*8,3), np.float32)\n",
        "objp[:,:2] = np.mgrid[0:8, 0:6].T.reshape(-1,2)\n",
        "\n",
        "# Arrays to store object points and image points from all the images.\n",
        "objpoints = [] # 3d points in real world space\n",
        "imgpoints = [] # 2d points in image plane.\n",
        "\n",
        "# Make a list of calibration images\n",
        "images = glob.glob('images/GO*.jpg')\n",
        "\n",
        "# Step through the list and search for chessboard corners\n",
        "for idx, fname in enumerate(images):\n",
        "    img = cv2.imread(fname)\n",
        "    gray = cv2.cvtColor(img, cv2.COLOR_BGR2GRAY)\n",
        "\n",
        "    # Find the chessboard corners\n",
        "    ret, corners = cv2.findChessboardCorners(gray, (8,6), None)\n",
        "\n",
        "    # If found, add object points, image points\n",
        "    if ret == True:\n",
        "        objpoints.append(objp)\n",
        "        imgpoints.append(corners)\n",
        "\n",
        "        # Draw and display the corners\n",
        "        cv2.drawChessboardCorners(img, (8,6), corners, ret)\n",
        "        #write_name = 'corners_found'+str(idx)+'.jpg'\n",
        "        #cv2.imwrite(write_name, img)\n",
        "        print(\"object points\")\n",
        "        print(objpoints)\n",
        "        print(\"image points\")\n",
        "        print(imgpoints)\n",
        "        cv2.imshow('img', img)\n",
        "        cv2.waitKey(500)\n",
        "\n",
        "cv2.destroyAllWindows()\n",
        "\n",
        "\n",
        "\n",
        "\n",
        "# Test undistortion on an image\n",
        "img = cv2.imread('images/test_image.jpg')\n",
        "img_size = (img.shape[1], img.shape[0])\n",
        "\n",
        "# Do camera calibration given object points and image points\n",
        "ret, mtx, dist, rvecs, tvecs = cv2.calibrateCamera(objpoints, imgpoints, img_size,None,None)\n",
        "\n",
        "\n",
        "dst = cv2.undistort(img, mtx, dist, None, mtx)\n",
        "cv2.imwrite('images/test_undist.jpg',dst)\n",
        "\n",
        "# Save the camera calibration result for later use (we won't worry about rvecs / tvecs)\n",
        "dist_pickle = {}\n",
        "dist_pickle[\"mtx\"] = mtx\n",
        "dist_pickle[\"dist\"] = dist\n",
        "pickle.dump( dist_pickle, open( \"images/wide_dist_pickle.p\", \"wb\" ) )\n",
        "#dst = cv2.cvtColor(dst, cv2.COLOR_BGR2RGB)\n",
        "# Visualize undistortion\n",
        "cv2.imshow('Original image',img)\n",
        "cv2.imshow('Undistorted Image', dst)\n",
        "cv2.waitKey(0)\n",
        "cv2.destroyAllWindows()"
      ]
    }
  ]
}